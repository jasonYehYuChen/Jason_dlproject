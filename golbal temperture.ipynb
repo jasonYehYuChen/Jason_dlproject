{
 "cells": [
  {
   "cell_type": "code",
   "execution_count": 194,
   "metadata": {},
   "outputs": [],
   "source": [
    "%matplotlib inline\n",
    "import numpy as np\n",
    "import matplotlib.pyplot as plt\n",
    "import pandas as pd\n",
    "from pandas import Series, DataFrame\n",
    "from sklearn.linear_model import LinearRegression\n",
    "from sklearn import linear_model\n",
    "from sklearn.model_selection import train_test_split\n",
    "from sklearn.preprocessing import PolynomialFeatures\n",
    "import matplotlib as mpl\n",
    "from matplotlib.font_manager import FontProperties"
   ]
  },
  {
   "cell_type": "markdown",
   "metadata": {},
   "source": [
    "# 從https://data.giss.nasa.gov/gistemp/ 下載ＣＳＶ黨並匯入做分析\n",
    "\n",
    "\n",
    "## 試著用線性迴歸來分析非線性的數據，運用地球溫度來做數據分析"
   ]
  },
  {
   "cell_type": "code",
   "execution_count": 195,
   "metadata": {},
   "outputs": [],
   "source": [
    "df_golbal = pd.read_csv('/Users/jasonyeh/Desktop/Python_DL/GLB.Ts.csv',sep=',' )\n",
    "df_north = pd.read_csv('/Users/jasonyeh/Desktop/Python_DL/NH.Ts.csv',)\n",
    "df_south = pd.read_csv('/Users/jasonyeh/Desktop/Python_DL/SH.Ts.csv',sep=',')"
   ]
  },
  {
   "cell_type": "code",
   "execution_count": 196,
   "metadata": {},
   "outputs": [
    {
     "data": {
      "text/html": [
       "<div>\n",
       "<style scoped>\n",
       "    .dataframe tbody tr th:only-of-type {\n",
       "        vertical-align: middle;\n",
       "    }\n",
       "\n",
       "    .dataframe tbody tr th {\n",
       "        vertical-align: top;\n",
       "    }\n",
       "\n",
       "    .dataframe thead th {\n",
       "        text-align: right;\n",
       "    }\n",
       "</style>\n",
       "<table border=\"1\" class=\"dataframe\">\n",
       "  <thead>\n",
       "    <tr style=\"text-align: right;\">\n",
       "      <th></th>\n",
       "      <th>Year</th>\n",
       "      <th>Jan</th>\n",
       "      <th>Feb</th>\n",
       "      <th>Mar</th>\n",
       "      <th>Apr</th>\n",
       "      <th>May</th>\n",
       "      <th>Jun</th>\n",
       "      <th>Jul</th>\n",
       "      <th>Aug</th>\n",
       "      <th>Sep</th>\n",
       "      <th>Oct</th>\n",
       "      <th>Nov</th>\n",
       "      <th>Dec</th>\n",
       "      <th>J-D</th>\n",
       "      <th>D-N</th>\n",
       "      <th>DJF</th>\n",
       "      <th>MAM</th>\n",
       "      <th>JJA</th>\n",
       "      <th>SON</th>\n",
       "    </tr>\n",
       "  </thead>\n",
       "  <tbody>\n",
       "    <tr>\n",
       "      <th>0</th>\n",
       "      <td>1880</td>\n",
       "      <td>-1.00</td>\n",
       "      <td>-0.81</td>\n",
       "      <td>-0.79</td>\n",
       "      <td>-.92</td>\n",
       "      <td>-.38</td>\n",
       "      <td>-.38</td>\n",
       "      <td>-.22</td>\n",
       "      <td>-.33</td>\n",
       "      <td>-.50</td>\n",
       "      <td>-.53</td>\n",
       "      <td>-.88</td>\n",
       "      <td>-1.11</td>\n",
       "      <td>-.65</td>\n",
       "      <td>***</td>\n",
       "      <td>***</td>\n",
       "      <td>-.70</td>\n",
       "      <td>-.31</td>\n",
       "      <td>-.64</td>\n",
       "    </tr>\n",
       "    <tr>\n",
       "      <th>1</th>\n",
       "      <td>1881</td>\n",
       "      <td>-0.66</td>\n",
       "      <td>-0.78</td>\n",
       "      <td>-0.38</td>\n",
       "      <td>-.30</td>\n",
       "      <td>-.28</td>\n",
       "      <td>-.86</td>\n",
       "      <td>-.43</td>\n",
       "      <td>-.19</td>\n",
       "      <td>-.34</td>\n",
       "      <td>-.70</td>\n",
       "      <td>-.67</td>\n",
       "      <td>-.63</td>\n",
       "      <td>-.52</td>\n",
       "      <td>-.56</td>\n",
       "      <td>-.85</td>\n",
       "      <td>-.32</td>\n",
       "      <td>-.50</td>\n",
       "      <td>-.57</td>\n",
       "    </tr>\n",
       "    <tr>\n",
       "      <th>2</th>\n",
       "      <td>1882</td>\n",
       "      <td>0.17</td>\n",
       "      <td>0.11</td>\n",
       "      <td>-0.20</td>\n",
       "      <td>-.71</td>\n",
       "      <td>-.66</td>\n",
       "      <td>-.61</td>\n",
       "      <td>-.57</td>\n",
       "      <td>-.26</td>\n",
       "      <td>-.43</td>\n",
       "      <td>-.89</td>\n",
       "      <td>-.99</td>\n",
       "      <td>-1.18</td>\n",
       "      <td>-.52</td>\n",
       "      <td>-.47</td>\n",
       "      <td>-.12</td>\n",
       "      <td>-.53</td>\n",
       "      <td>-.48</td>\n",
       "      <td>-.77</td>\n",
       "    </tr>\n",
       "    <tr>\n",
       "      <th>3</th>\n",
       "      <td>1883</td>\n",
       "      <td>-1.20</td>\n",
       "      <td>-1.29</td>\n",
       "      <td>-0.65</td>\n",
       "      <td>-.64</td>\n",
       "      <td>-.68</td>\n",
       "      <td>-.32</td>\n",
       "      <td>-.25</td>\n",
       "      <td>-.47</td>\n",
       "      <td>-.52</td>\n",
       "      <td>-.49</td>\n",
       "      <td>-.88</td>\n",
       "      <td>-.75</td>\n",
       "      <td>-.68</td>\n",
       "      <td>-.71</td>\n",
       "      <td>-1.22</td>\n",
       "      <td>-.66</td>\n",
       "      <td>-.35</td>\n",
       "      <td>-.63</td>\n",
       "    </tr>\n",
       "    <tr>\n",
       "      <th>4</th>\n",
       "      <td>1884</td>\n",
       "      <td>-0.84</td>\n",
       "      <td>-0.73</td>\n",
       "      <td>-1.28</td>\n",
       "      <td>-1.20</td>\n",
       "      <td>-.90</td>\n",
       "      <td>-.91</td>\n",
       "      <td>-.68</td>\n",
       "      <td>-.79</td>\n",
       "      <td>-.82</td>\n",
       "      <td>-.78</td>\n",
       "      <td>-.94</td>\n",
       "      <td>-.85</td>\n",
       "      <td>-.89</td>\n",
       "      <td>-.89</td>\n",
       "      <td>-.77</td>\n",
       "      <td>-1.13</td>\n",
       "      <td>-.79</td>\n",
       "      <td>-.85</td>\n",
       "    </tr>\n",
       "  </tbody>\n",
       "</table>\n",
       "</div>"
      ],
      "text/plain": [
       "   Year   Jan   Feb   Mar    Apr   May   Jun   Jul   Aug   Sep   Oct   Nov  \\\n",
       "0  1880 -1.00 -0.81 -0.79   -.92  -.38  -.38  -.22  -.33  -.50  -.53  -.88   \n",
       "1  1881 -0.66 -0.78 -0.38   -.30  -.28  -.86  -.43  -.19  -.34  -.70  -.67   \n",
       "2  1882  0.17  0.11 -0.20   -.71  -.66  -.61  -.57  -.26  -.43  -.89  -.99   \n",
       "3  1883 -1.20 -1.29 -0.65   -.64  -.68  -.32  -.25  -.47  -.52  -.49  -.88   \n",
       "4  1884 -0.84 -0.73 -1.28  -1.20  -.90  -.91  -.68  -.79  -.82  -.78  -.94   \n",
       "\n",
       "     Dec   J-D   D-N    DJF    MAM   JJA   SON  \n",
       "0  -1.11  -.65   ***    ***   -.70  -.31  -.64  \n",
       "1   -.63  -.52  -.56   -.85   -.32  -.50  -.57  \n",
       "2  -1.18  -.52  -.47   -.12   -.53  -.48  -.77  \n",
       "3   -.75  -.68  -.71  -1.22   -.66  -.35  -.63  \n",
       "4   -.85  -.89  -.89   -.77  -1.13  -.79  -.85  "
      ]
     },
     "execution_count": 196,
     "metadata": {},
     "output_type": "execute_result"
    }
   ],
   "source": [
    "df_north.head()"
   ]
  },
  {
   "cell_type": "code",
   "execution_count": 197,
   "metadata": {},
   "outputs": [],
   "source": [
    "df_golbal=pd.DataFrame(df_golbal[1:-1],dtype=np.float)\n",
    "\n",
    "\n",
    "df_north=pd.DataFrame(df_north[1:-1],dtype=np.float)\n",
    "\n",
    "\n",
    "df_south=pd.DataFrame(df_south[1:-1],dtype=np.float)\n"
   ]
  },
  {
   "cell_type": "markdown",
   "metadata": {},
   "source": [
    "## 北半球的溫度變化\n",
    "\n",
    "###  畫出原始數據看一下，看起來是非線性，決定試著用線性迴歸去擬合非線性的曲線"
   ]
  },
  {
   "cell_type": "code",
   "execution_count": 198,
   "metadata": {},
   "outputs": [
    {
     "data": {
      "image/png": "[encoded data removed]",
      "text/plain": [
       "<Figure size 432x288 with 1 Axes>"
      ]
     },
     "metadata": {
      "needs_background": "light"
     },
     "output_type": "display_data"
    }
   ],
   "source": [
    "X_G=np.array(df_golbal[\"Year\"]);\n",
    "Y_G=np.array(df_golbal[\"SON\"]);\n",
    "plt.figure(0)\n",
    "plt.title('Global');\n",
    "plt.xlabel('Year');\n",
    "plt.ylabel('Temperature');\n",
    "plt.scatter(X_G,Y_G,s=6);\n"
   ]
  },
  {
   "cell_type": "code",
   "execution_count": 199,
   "metadata": {},
   "outputs": [
    {
     "data": {
      "image/png": "[encoded data removed]",
      "text/plain": [
       "<Figure size 432x288 with 1 Axes>"
      ]
     },
     "metadata": {
      "needs_background": "light"
     },
     "output_type": "display_data"
    },
    {
     "data": {
      "text/plain": [
       "array([1.7920253])"
      ]
     },
     "execution_count": 199,
     "metadata": {},
     "output_type": "execute_result"
    }
   ],
   "source": [
    "pf=PolynomialFeatures(degree=3)\n",
    "length = len(X_G)\n",
    "XG = np.array(X_G).reshape([length,1])\n",
    "YG = np.array(Y_G)\n",
    "minXG = min(X_G)-1\n",
    "maxXG = max(X_G)\n",
    "#print(len(X))\n",
    "#print(len(Y))\n",
    "XG = np.arange(minXG,maxXG).reshape([-1,1])\n",
    "#print(len(X))\n",
    "#print(len(Y))\n",
    "XG_poly = pf.fit_transform(XG)\n",
    "lin_reg_G = linear_model.LinearRegression()\n",
    "lin_reg_G.fit(XG_poly, YG)\n",
    "plt.figure(1)\n",
    "plt.title('global')\n",
    "plt.scatter(X_G,Y_G, color = 'red')\n",
    "plt.plot(XG, lin_reg_G.predict(pf.fit_transform(XG)), color = 'blue')\n",
    "plt.xlabel('Year')\n",
    "plt.ylabel('Temperaturt')\n",
    "plt.show()\n",
    "\n",
    "lin_reg_G.predict(pf.fit_transform(np.array([[2030],])))"
   ]
  },
  {
   "cell_type": "markdown",
   "metadata": {},
   "source": [
    "## 運用線性回歸法擬合三次方的曲線 紅點為數據，藍線為擬合線\n"
   ]
  },
  {
   "cell_type": "markdown",
   "metadata": {},
   "source": [
    "##  南半球的平均溫度變化"
   ]
  },
  {
   "cell_type": "code",
   "execution_count": 226,
   "metadata": {},
   "outputs": [
    {
     "data": {
      "image/png": "[encoded data removed]",
      "text/plain": [
       "<Figure size 432x288 with 1 Axes>"
      ]
     },
     "metadata": {
      "needs_background": "light"
     },
     "output_type": "display_data"
    },
    {
     "data": {
      "text/plain": [
       "array([2.34450648])"
      ]
     },
     "execution_count": 226,
     "metadata": {},
     "output_type": "execute_result"
    }
   ],
   "source": [
    "X_N=np.array(df_north[\"Year\"]);\n",
    "Y_N=np.array(df_north[\"SON\"]);\n",
    "\n",
    "length = len(X_N)\n",
    "XN = np.array(X_N).reshape([length,1])\n",
    "YN = np.array(Y_N)\n",
    "minXN = min(X_N)-1\n",
    "maxXN = max(X_N)\n",
    "#print(len(X))\n",
    "#print(len(Y))\n",
    "XN = np.arange(minXN,maxXN).reshape([-1,1])\n",
    "#print(len(X))\n",
    "#print(len(Y))\n",
    "XN_poly = pf.fit_transform(XN)\n",
    "lin_reg_N = linear_model.LinearRegression()\n",
    "lin_reg_N.fit(XN_poly, YN)\n",
    "plt.figure(2)\n",
    "plt.title('North')\n",
    "plt.scatter(X_N,Y_N, color = 'red')\n",
    "plt.plot(XN, lin_reg_N.predict(pf.fit_transform(XN)), color = 'blue')\n",
    "plt.xlabel('Year')\n",
    "plt.ylabel('Temperaturt')\n",
    "plt.show()\n",
    "lin_reg_N.predict(pf.fit_transform(np.array([[2030],])))"
   ]
  },
  {
   "cell_type": "markdown",
   "metadata": {},
   "source": [
    "## 北辦球平均溫度變化"
   ]
  },
  {
   "cell_type": "code",
   "execution_count": 227,
   "metadata": {},
   "outputs": [
    {
     "data": {
      "image/png": "[encoded data removed]",
      "text/plain": [
       "<Figure size 432x288 with 1 Axes>"
      ]
     },
     "metadata": {
      "needs_background": "light"
     },
     "output_type": "display_data"
    },
    {
     "data": {
      "text/plain": [
       "array([1.29473549])"
      ]
     },
     "execution_count": 227,
     "metadata": {},
     "output_type": "execute_result"
    }
   ],
   "source": [
    "X_S=np.array(df_south[\"Year\"]);\n",
    "Y_S=np.array(df_south[\"SON\"]);\n",
    "\n",
    "XT=np.array([2030])\n",
    "length = len(XT)\n",
    "XTT = np.array(XT).reshape([length,1])\n",
    "\n",
    "\n",
    "\n",
    "\n",
    "\n",
    "\n",
    "\n",
    "length = len(X_S)\n",
    "XS = np.array(X_S).reshape([length,1])\n",
    "YS = np.array(Y_S)\n",
    "minXS = min(X_S)-1\n",
    "maxXS = max(X_S)\n",
    "#print(len(X))\n",
    "#print(len(Y))\n",
    "XS = np.arange(minXS,maxXS).reshape([-1,1])\n",
    "#print(len(X))\n",
    "#print(len(Y))\n",
    "XS_poly = pf.fit_transform(XS)\n",
    "lin_reg_S = linear_model.LinearRegression()\n",
    "lin_reg_S.fit(XS_poly, YS)\n",
    "plt.figure(3)\n",
    "plt.title('North')\n",
    "plt.scatter(X_S,Y_S, color = 'red')\n",
    "plt.plot(XS, lin_reg_S.predict(pf.fit_transform(XS)), color = 'blue')\n",
    "plt.xlabel('Year')\n",
    "plt.ylabel('Temperaturt')\n",
    "plt.show()\n",
    "lin_reg_S.predict(pf.fit_transform(np.array([[2030],])))"
   ]
  },
  {
   "cell_type": "code",
   "execution_count": 228,
   "metadata": {},
   "outputs": [],
   "source": [
    "G=lin_reg_G.predict(pf.fit_transform(np.array([[2030],])))\n"
   ]
  },
  {
   "cell_type": "code",
   "execution_count": 229,
   "metadata": {},
   "outputs": [],
   "source": [
    "S=lin_reg_S.predict(pf.fit_transform(np.array([[2030],])))\n"
   ]
  },
  {
   "cell_type": "code",
   "execution_count": 230,
   "metadata": {},
   "outputs": [],
   "source": [
    "N=lin_reg_N.predict(pf.fit_transform(np.array([[2030],])))"
   ]
  },
  {
   "cell_type": "code",
   "execution_count": 231,
   "metadata": {},
   "outputs": [
    {
     "name": "stdout",
     "output_type": "stream",
     "text": [
      "2030全球頻均溫度差1.7920252985786647度 南半球頻均溫度差2.344506481440476度 北半球頻均溫度差1.2947354867637841度\n"
     ]
    }
   ],
   "source": [
    " print(f'2030全球頻均溫度差{float(G)}度',f'南半球頻均溫度差{float(N)}度',f'北半球頻均溫度差{float(S)}度',)"
   ]
  },
  {
   "cell_type": "markdown",
   "metadata": {},
   "source": [
    "### 透過回歸線預測，地球愈來愈熱，從回歸線的預測中可以看出，南半球的溫度高於北半球，這是因為南半球的陸地比較少，海水熱容大所以溫度較高，個別的分析中可以看出南半球的趨勢跟北半球不同，這跟工業化的程度有關係，南半球工業化比較晚所以比較晚上升"
   ]
  },
  {
   "cell_type": "code",
   "execution_count": null,
   "metadata": {},
   "outputs": [],
   "source": []
  }
 ],
 "metadata": {
  "kernelspec": {
   "display_name": "Python 3",
   "language": "python",
   "name": "python3"
  },
  "language_info": {
   "codemirror_mode": {
    "name": "ipython",
    "version": 3
   },
   "file_extension": ".py",
   "mimetype": "text/x-python",
   "name": "python",
   "nbconvert_exporter": "python",
   "pygments_lexer": "ipython3",
   "version": "3.7.1"
  }
 },
 "nbformat": 4,
 "nbformat_minor": 2
}
