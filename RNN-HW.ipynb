{
 "cells": [
  {
   "cell_type": "code",
   "execution_count": 1,
   "metadata": {},
   "outputs": [
    {
     "name": "stdout",
     "output_type": "stream",
     "text": [
      "env: KERAS_BACKEND=tensorflow\n"
     ]
    }
   ],
   "source": [
    "%env KERAS_BACKEND=tensorflow\n",
    "import numpy as np\n",
    "import matplotlib.pyplot as plt"
   ]
  },
  {
   "cell_type": "code",
   "execution_count": 57,
   "metadata": {},
   "outputs": [],
   "source": [
    "from keras.datasets import imdb\n"
   ]
  },
  {
   "cell_type": "code",
   "execution_count": 58,
   "metadata": {},
   "outputs": [],
   "source": [
    "(x_train, y_train), (x_test, y_test) = imdb.load_data(num_words=10000)\n"
   ]
  },
  {
   "cell_type": "code",
   "execution_count": 59,
   "metadata": {},
   "outputs": [],
   "source": [
    "from keras.preprocessing import sequence\n",
    "from keras.models import Sequential\n",
    "from keras.layers import Embedding\n",
    "from keras.callbacks import EarlyStopping\n",
    "from keras.layers.core import Dense, Activation, Dropout\n",
    "from keras.layers.recurrent import LSTM"
   ]
  },
  {
   "cell_type": "code",
   "execution_count": 60,
   "metadata": {},
   "outputs": [],
   "source": [
    "x_train = sequence.pad_sequences(x_train, maxlen=200)\n",
    "x_test= sequence.pad_sequences(x_test, maxlen=200)"
   ]
  },
  {
   "cell_type": "markdown",
   "metadata": {},
   "source": [
    "# 用兩層LSTM正確率都可以超過87％"
   ]
  },
  {
   "cell_type": "code",
   "execution_count": 61,
   "metadata": {},
   "outputs": [],
   "source": [
    "model = Sequential()\n",
    "early_stopping = EarlyStopping(monitor='val_acc',verbose=2,mode='max',patience=1)\n",
    "model.add(Embedding(10000,1500))\n",
    "model.add(LSTM(5,return_sequences=True))\n",
    "model.add(Dropout(0.3))\n",
    "model.add(LSTM(50,return_sequences=False))\n",
    "model.add(Dropout(0.3))\n",
    "model.add(Dense(1, activation='sigmoid'))"
   ]
  },
  {
   "cell_type": "code",
   "execution_count": 62,
   "metadata": {},
   "outputs": [],
   "source": [
    "model.compile(loss='binary_crossentropy',optimizer='adam',metrics=['accuracy'])"
   ]
  },
  {
   "cell_type": "code",
   "execution_count": 63,
   "metadata": {},
   "outputs": [
    {
     "name": "stdout",
     "output_type": "stream",
     "text": [
      "_________________________________________________________________\n",
      "Layer (type)                 Output Shape              Param #   \n",
      "=================================================================\n",
      "embedding_22 (Embedding)     (None, None, 1500)        15000000  \n",
      "_________________________________________________________________\n",
      "lstm_43 (LSTM)               (None, None, 5)           30120     \n",
      "_________________________________________________________________\n",
      "dropout_46 (Dropout)         (None, None, 5)           0         \n",
      "_________________________________________________________________\n",
      "lstm_44 (LSTM)               (None, 50)                11200     \n",
      "_________________________________________________________________\n",
      "dropout_47 (Dropout)         (None, 50)                0         \n",
      "_________________________________________________________________\n",
      "dense_22 (Dense)             (None, 1)                 51        \n",
      "=================================================================\n",
      "Total params: 15,041,371\n",
      "Trainable params: 15,041,371\n",
      "Non-trainable params: 0\n",
      "_________________________________________________________________\n"
     ]
    }
   ],
   "source": [
    "model.summary()\n"
   ]
  },
  {
   "cell_type": "code",
   "execution_count": 64,
   "metadata": {},
   "outputs": [
    {
     "name": "stdout",
     "output_type": "stream",
     "text": [
      "Train on 25000 samples, validate on 25000 samples\n",
      "Epoch 1/10\n",
      "25000/25000 [==============================] - 517s 21ms/step - loss: 0.4155 - acc: 0.8132 - val_loss: 0.2913 - val_acc: 0.8780\n",
      "Epoch 2/10\n",
      "25000/25000 [==============================] - 507s 20ms/step - loss: 0.2335 - acc: 0.9105 - val_loss: 0.2963 - val_acc: 0.8744\n",
      "Epoch 00002: early stopping\n"
     ]
    },
    {
     "data": {
      "text/plain": [
       "<keras.callbacks.History at 0xb5b33c588>"
      ]
     },
     "execution_count": 64,
     "metadata": {},
     "output_type": "execute_result"
    }
   ],
   "source": [
    "model.fit(x_train, y_train,validation_data = (x_test, y_test),\n",
    "          batch_size=32, epochs=10,callbacks=[early_stopping])\n"
   ]
  },
  {
   "cell_type": "code",
   "execution_count": null,
   "metadata": {},
   "outputs": [],
   "source": []
  },
  {
   "cell_type": "code",
   "execution_count": 66,
   "metadata": {},
   "outputs": [
    {
     "name": "stdout",
     "output_type": "stream",
     "text": [
      "_________________________________________________________________\n",
      "Layer (type)                 Output Shape              Param #   \n",
      "=================================================================\n",
      "embedding_24 (Embedding)     (None, None, 1500)        15000000  \n",
      "_________________________________________________________________\n",
      "lstm_47 (LSTM)               (None, None, 10)          60440     \n",
      "_________________________________________________________________\n",
      "dropout_50 (Dropout)         (None, None, 10)          0         \n",
      "_________________________________________________________________\n",
      "lstm_48 (LSTM)               (None, 50)                12200     \n",
      "_________________________________________________________________\n",
      "dropout_51 (Dropout)         (None, 50)                0         \n",
      "_________________________________________________________________\n",
      "dense_24 (Dense)             (None, 1)                 51        \n",
      "=================================================================\n",
      "Total params: 15,072,691\n",
      "Trainable params: 15,072,691\n",
      "Non-trainable params: 0\n",
      "_________________________________________________________________\n",
      "Train on 25000 samples, validate on 25000 samples\n",
      "Epoch 1/10\n",
      "25000/25000 [==============================] - 519s 21ms/step - loss: 0.4295 - acc: 0.8034 - val_loss: 0.3478 - val_acc: 0.8474\n",
      "Epoch 2/10\n",
      "25000/25000 [==============================] - 511s 20ms/step - loss: 0.2358 - acc: 0.9097 - val_loss: 0.3335 - val_acc: 0.8612\n",
      "Epoch 3/10\n",
      "25000/25000 [==============================] - 506s 20ms/step - loss: 0.1527 - acc: 0.9451 - val_loss: 0.3671 - val_acc: 0.8737\n",
      "Epoch 4/10\n",
      "25000/25000 [==============================] - 505s 20ms/step - loss: 0.1076 - acc: 0.9627 - val_loss: 0.3936 - val_acc: 0.8716\n",
      "Epoch 00004: early stopping\n"
     ]
    },
    {
     "data": {
      "text/plain": [
       "<keras.callbacks.History at 0xc1e483080>"
      ]
     },
     "execution_count": 66,
     "metadata": {},
     "output_type": "execute_result"
    }
   ],
   "source": [
    "model1 = Sequential()\n",
    "early_stopping = EarlyStopping(monitor='val_acc',verbose=2,mode='max',patience=1)\n",
    "model1.add(Embedding(10000,1500))\n",
    "model1.add(LSTM(10,return_sequences=True))\n",
    "model1.add(Dropout(0.3))\n",
    "model1.add(LSTM(50,return_sequences=False))\n",
    "model1.add(Dropout(0.3))\n",
    "model1.add(Dense(1, activation='sigmoid'))\n",
    "model1.compile(loss='binary_crossentropy',optimizer='adam',metrics=['accuracy'])  \n",
    "model1.summary()\n",
    "model1.fit(x_train, y_train,validation_data = (x_test, y_test),\n",
    "          batch_size=32, epochs=10,callbacks=[early_stopping])\n"
   ]
  },
  {
   "cell_type": "code",
   "execution_count": 68,
   "metadata": {},
   "outputs": [
    {
     "name": "stdout",
     "output_type": "stream",
     "text": [
      "_________________________________________________________________\n",
      "Layer (type)                 Output Shape              Param #   \n",
      "=================================================================\n",
      "embedding_26 (Embedding)     (None, None, 1500)        15000000  \n",
      "_________________________________________________________________\n",
      "lstm_51 (LSTM)               (None, None, 10)          60440     \n",
      "_________________________________________________________________\n",
      "dropout_54 (Dropout)         (None, None, 10)          0         \n",
      "_________________________________________________________________\n",
      "lstm_52 (LSTM)               (None, 25)                3600      \n",
      "_________________________________________________________________\n",
      "dropout_55 (Dropout)         (None, 25)                0         \n",
      "_________________________________________________________________\n",
      "dense_26 (Dense)             (None, 1)                 26        \n",
      "=================================================================\n",
      "Total params: 15,064,066\n",
      "Trainable params: 15,064,066\n",
      "Non-trainable params: 0\n",
      "_________________________________________________________________\n",
      "Train on 25000 samples, validate on 25000 samples\n",
      "Epoch 1/10\n",
      "25000/25000 [==============================] - 518s 21ms/step - loss: 0.4301 - acc: 0.8037 - val_loss: 0.3227 - val_acc: 0.8672\n",
      "Epoch 2/10\n",
      "25000/25000 [==============================] - 510s 20ms/step - loss: 0.2388 - acc: 0.9095 - val_loss: 0.3016 - val_acc: 0.8732\n",
      "Epoch 3/10\n",
      "25000/25000 [==============================] - 512s 20ms/step - loss: 0.1578 - acc: 0.9436 - val_loss: 0.3399 - val_acc: 0.8697\n",
      "Epoch 00003: early stopping\n"
     ]
    },
    {
     "data": {
      "text/plain": [
       "<keras.callbacks.History at 0xc2147dcf8>"
      ]
     },
     "execution_count": 68,
     "metadata": {},
     "output_type": "execute_result"
    }
   ],
   "source": [
    "model2 = Sequential()\n",
    "early_stopping = EarlyStopping(monitor='val_acc',verbose=2,mode='max',patience=1)\n",
    "model2.add(Embedding(10000,1500))\n",
    "model2.add(LSTM(10,return_sequences=True))\n",
    "model2.add(Dropout(0.3))\n",
    "model2.add(LSTM(25,return_sequences=False))\n",
    "model2.add(Dropout(0.3))\n",
    "model2.add(Dense(1, activation='sigmoid'))\n",
    "model2.compile(loss='binary_crossentropy',optimizer='adam',metrics=['accuracy'])  \n",
    "model2.summary()\n",
    "model2.fit(x_train, y_train,validation_data = (x_test, y_test),\n",
    "          batch_size=32, epochs=10,callbacks=[early_stopping])"
   ]
  },
  {
   "cell_type": "code",
   "execution_count": 69,
   "metadata": {},
   "outputs": [
    {
     "name": "stdout",
     "output_type": "stream",
     "text": [
      "_________________________________________________________________\n",
      "Layer (type)                 Output Shape              Param #   \n",
      "=================================================================\n",
      "embedding_27 (Embedding)     (None, None, 1500)        15000000  \n",
      "_________________________________________________________________\n",
      "lstm_53 (LSTM)               (None, None, 20)          121680    \n",
      "_________________________________________________________________\n",
      "dropout_56 (Dropout)         (None, None, 20)          0         \n",
      "_________________________________________________________________\n",
      "lstm_54 (LSTM)               (None, 50)                14200     \n",
      "_________________________________________________________________\n",
      "dropout_57 (Dropout)         (None, 50)                0         \n",
      "_________________________________________________________________\n",
      "dense_27 (Dense)             (None, 1)                 51        \n",
      "=================================================================\n",
      "Total params: 15,135,931\n",
      "Trainable params: 15,135,931\n",
      "Non-trainable params: 0\n",
      "_________________________________________________________________\n",
      "Train on 25000 samples, validate on 25000 samples\n",
      "Epoch 1/10\n",
      "25000/25000 [==============================] - 533s 21ms/step - loss: 0.4611 - acc: 0.7858 - val_loss: 0.3704 - val_acc: 0.8376\n",
      "Epoch 2/10\n",
      "25000/25000 [==============================] - 516s 21ms/step - loss: 0.2684 - acc: 0.8903 - val_loss: 0.3024 - val_acc: 0.8736\n",
      "Epoch 3/10\n",
      "25000/25000 [==============================] - 514s 21ms/step - loss: 0.1781 - acc: 0.9348 - val_loss: 0.3735 - val_acc: 0.8648\n",
      "Epoch 00003: early stopping\n"
     ]
    },
    {
     "data": {
      "text/plain": [
       "<keras.callbacks.History at 0xc26248b00>"
      ]
     },
     "execution_count": 69,
     "metadata": {},
     "output_type": "execute_result"
    }
   ],
   "source": [
    "model3 = Sequential()\n",
    "early_stopping = EarlyStopping(monitor='val_acc',verbose=2,mode='max',patience=1)\n",
    "model3.add(Embedding(10000,1500))\n",
    "model3.add(LSTM(20,return_sequences=True))\n",
    "model3.add(Dropout(0.3))\n",
    "model3.add(LSTM(50,return_sequences=False))\n",
    "model3.add(Dropout(0.3))\n",
    "model3.add(Dense(1, activation='sigmoid'))\n",
    "model3.compile(loss='binary_crossentropy',optimizer='adam',metrics=['accuracy'])  \n",
    "model3.summary()\n",
    "model3.fit(x_train, y_train,validation_data = (x_test, y_test),\n",
    "          batch_size=32, epochs=10,callbacks=[early_stopping])"
   ]
  },
  {
   "cell_type": "code",
   "execution_count": 71,
   "metadata": {},
   "outputs": [
    {
     "name": "stdout",
     "output_type": "stream",
     "text": [
      "_________________________________________________________________\n",
      "Layer (type)                 Output Shape              Param #   \n",
      "=================================================================\n",
      "embedding_29 (Embedding)     (None, None, 2000)        20000000  \n",
      "_________________________________________________________________\n",
      "lstm_57 (LSTM)               (None, None, 50)          410200    \n",
      "_________________________________________________________________\n",
      "dropout_60 (Dropout)         (None, None, 50)          0         \n",
      "_________________________________________________________________\n",
      "lstm_58 (LSTM)               (None, 10)                2440      \n",
      "_________________________________________________________________\n",
      "dropout_61 (Dropout)         (None, 10)                0         \n",
      "_________________________________________________________________\n",
      "dense_29 (Dense)             (None, 1)                 11        \n",
      "=================================================================\n",
      "Total params: 20,412,651\n",
      "Trainable params: 20,412,651\n",
      "Non-trainable params: 0\n",
      "_________________________________________________________________\n",
      "Train on 25000 samples, validate on 25000 samples\n",
      "Epoch 1/10\n",
      "25000/25000 [==============================] - 386s 15ms/step - loss: 0.4456 - acc: 0.7964 - val_loss: 0.3397 - val_acc: 0.8629\n",
      "Epoch 2/10\n",
      "25000/25000 [==============================] - 375s 15ms/step - loss: 0.2829 - acc: 0.8914 - val_loss: 0.3368 - val_acc: 0.8713\n",
      "Epoch 3/10\n",
      "25000/25000 [==============================] - 374s 15ms/step - loss: 0.2076 - acc: 0.9232 - val_loss: 0.4020 - val_acc: 0.8688\n",
      "Epoch 00003: early stopping\n"
     ]
    },
    {
     "data": {
      "text/plain": [
       "<keras.callbacks.History at 0xc2909d5f8>"
      ]
     },
     "execution_count": 71,
     "metadata": {},
     "output_type": "execute_result"
    }
   ],
   "source": [
    "model4 = Sequential()\n",
    "early_stopping = EarlyStopping(monitor='val_acc',verbose=1,mode='max',patience=1)\n",
    "model4.add(Embedding(10000,2000))\n",
    "model4.add(LSTM(50,return_sequences=True))\n",
    "model4.add(Dropout(0.3))\n",
    "model4.add(LSTM(10,return_sequences=False))\n",
    "model4.add(Dropout(0.3))\n",
    "model4.add(Dense(1, activation='sigmoid'))\n",
    "model4.compile(loss='binary_crossentropy',optimizer='adam',metrics=['accuracy'])  \n",
    "model4.summary()\n",
    "model4.fit(x_train, y_train,validation_data = (x_test, y_test),\n",
    "          batch_size=100, epochs=10,callbacks=[early_stopping])"
   ]
  },
  {
   "cell_type": "code",
   "execution_count": 72,
   "metadata": {},
   "outputs": [
    {
     "name": "stdout",
     "output_type": "stream",
     "text": [
      "_________________________________________________________________\n",
      "Layer (type)                 Output Shape              Param #   \n",
      "=================================================================\n",
      "embedding_30 (Embedding)     (None, None, 500)         5000000   \n",
      "_________________________________________________________________\n",
      "lstm_59 (LSTM)               (None, None, 3)           6048      \n",
      "_________________________________________________________________\n",
      "dropout_62 (Dropout)         (None, None, 3)           0         \n",
      "_________________________________________________________________\n",
      "lstm_60 (LSTM)               (None, 20)                1920      \n",
      "_________________________________________________________________\n",
      "dropout_63 (Dropout)         (None, 20)                0         \n",
      "_________________________________________________________________\n",
      "dense_30 (Dense)             (None, 1)                 21        \n",
      "=================================================================\n",
      "Total params: 5,007,989\n",
      "Trainable params: 5,007,989\n",
      "Non-trainable params: 0\n",
      "_________________________________________________________________\n",
      "Train on 25000 samples, validate on 25000 samples\n",
      "Epoch 1/10\n",
      "25000/25000 [==============================] - 254s 10ms/step - loss: 0.4159 - acc: 0.8129 - val_loss: 0.3066 - val_acc: 0.8688\n",
      "Epoch 2/10\n",
      "25000/25000 [==============================] - 245s 10ms/step - loss: 0.2417 - acc: 0.9074 - val_loss: 0.3143 - val_acc: 0.8704\n",
      "Epoch 3/10\n",
      "25000/25000 [==============================] - 246s 10ms/step - loss: 0.1731 - acc: 0.9388 - val_loss: 0.3669 - val_acc: 0.8590\n",
      "Epoch 00003: early stopping\n"
     ]
    },
    {
     "data": {
      "text/plain": [
       "<keras.callbacks.History at 0xb306a1400>"
      ]
     },
     "execution_count": 72,
     "metadata": {},
     "output_type": "execute_result"
    }
   ],
   "source": [
    "model5 = Sequential()\n",
    "early_stopping = EarlyStopping(monitor='val_acc',verbose=1,mode='max',patience=1)\n",
    "model5.add(Embedding(10000,500))\n",
    "model5.add(LSTM(3,return_sequences=True))\n",
    "model5.add(Dropout(0.4))\n",
    "model5.add(LSTM(20,return_sequences=False))\n",
    "model5.add(Dropout(0.3))\n",
    "model5.add(Dense(1, activation='sigmoid'))\n",
    "model5.compile(loss='binary_crossentropy',optimizer='adam',metrics=['accuracy'])  \n",
    "model5.summary()\n",
    "model5.fit(x_train_maxlen, y_train,validation_data = (x_test_maxlen, y_test),\n",
    "          batch_size=32, epochs=10,callbacks=[early_stopping])"
   ]
  },
  {
   "cell_type": "code",
   "execution_count": null,
   "metadata": {},
   "outputs": [],
   "source": []
  }
 ],
 "metadata": {
  "kernelspec": {
   "display_name": "Python 3",
   "language": "python",
   "name": "python3"
  },
  "language_info": {
   "codemirror_mode": {
    "name": "ipython",
    "version": 3
   },
   "file_extension": ".py",
   "mimetype": "text/x-python",
   "name": "python",
   "nbconvert_exporter": "python",
   "pygments_lexer": "ipython3",
   "version": "3.7.1"
  }
 },
 "nbformat": 4,
 "nbformat_minor": 2
}
