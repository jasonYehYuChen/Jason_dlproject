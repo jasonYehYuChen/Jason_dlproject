{
 "cells": [
  {
   "cell_type": "code",
   "execution_count": 25,
   "metadata": {},
   "outputs": [
    {
     "name": "stdout",
     "output_type": "stream",
     "text": [
      "env: KERAS_BACKEND=tensorflow\n"
     ]
    }
   ],
   "source": [
    "%env KERAS_BACKEND = tensorflow"
   ]
  },
  {
   "cell_type": "code",
   "execution_count": 26,
   "metadata": {},
   "outputs": [],
   "source": [
    "%matplotlib inline\n",
    "import numpy as np\n",
    "import matplotlib.pyplot as plt\n",
    "import pandas as pd\n",
    "from keras.models import Sequential\n",
    "from keras.layers import Dense, Activation\n",
    "from keras.datasets import mnist\n",
    "from keras.utils import np_utils\n",
    "from keras.layers import Input\n",
    "from keras.layers import concatenate\n",
    "from keras.models import Model\n",
    "from keras.optimizers import Adam"
   ]
  },
  {
   "cell_type": "markdown",
   "metadata": {},
   "source": [
    "![0502](0502.png)"
   ]
  },
  {
   "cell_type": "code",
   "execution_count": null,
   "metadata": {},
   "outputs": [],
   "source": []
  },
  {
   "cell_type": "code",
   "execution_count": 27,
   "metadata": {},
   "outputs": [],
   "source": [
    "(x_train, y_train), (x_test, y_test) = mnist.load_data()"
   ]
  },
  {
   "cell_type": "code",
   "execution_count": 28,
   "metadata": {},
   "outputs": [],
   "source": [
    "x_train = x_train.reshape(60000,784)\n",
    "x_test = x_test.reshape(10000,784 )"
   ]
  },
  {
   "cell_type": "code",
   "execution_count": 29,
   "metadata": {},
   "outputs": [],
   "source": [
    "# 歸ㄧ化\n",
    "x_train = (x_train-x_train.min())/x_train.max()\n",
    "x_test = (x_test-x_test.min())/x_test.max()"
   ]
  },
  {
   "cell_type": "code",
   "execution_count": 30,
   "metadata": {},
   "outputs": [],
   "source": [
    "y_train = np_utils.to_categorical(y_train, 10)\n",
    "y_test = np_utils.to_categorical(y_test, 10)"
   ]
  },
  {
   "cell_type": "code",
   "execution_count": 31,
   "metadata": {},
   "outputs": [],
   "source": [
    "f1 = Dense(600, activation='relu')\n",
    "f2 = Dense(300, activation='relu')\n",
    "f3 = Dense(300, activation='elu')\n",
    "f4 = Dense(300, activation='elu')\n",
    "f5 = Dense(200, activation='relu')\n",
    "f6 = Dense(100, activation='relu')\n",
    "f7 = Dense(100, activation='elu')\n",
    "f8 = Dense(50, activation='relu')\n",
    "f9 = Dense(10, activation='softmax')"
   ]
  },
  {
   "cell_type": "code",
   "execution_count": 32,
   "metadata": {},
   "outputs": [],
   "source": [
    "\n",
    "x = Input(shape=(784,))"
   ]
  },
  {
   "cell_type": "code",
   "execution_count": 33,
   "metadata": {},
   "outputs": [
    {
     "name": "stdout",
     "output_type": "stream",
     "text": [
      "__________________________________________________________________________________________________\n",
      "Layer (type)                    Output Shape         Param #     Connected to                     \n",
      "==================================================================================================\n",
      "input_3 (InputLayer)            (None, 784)          0                                            \n",
      "__________________________________________________________________________________________________\n",
      "dense_19 (Dense)                (None, 600)          471000      input_3[0][0]                    \n",
      "__________________________________________________________________________________________________\n",
      "dense_20 (Dense)                (None, 300)          180300      dense_19[0][0]                   \n",
      "__________________________________________________________________________________________________\n",
      "dense_21 (Dense)                (None, 300)          180300      dense_19[0][0]                   \n",
      "__________________________________________________________________________________________________\n",
      "dense_22 (Dense)                (None, 300)          90300       dense_20[0][0]                   \n",
      "__________________________________________________________________________________________________\n",
      "dense_23 (Dense)                (None, 200)          60200       dense_20[0][0]                   \n",
      "__________________________________________________________________________________________________\n",
      "dense_24 (Dense)                (None, 100)          30100       dense_21[0][0]                   \n",
      "__________________________________________________________________________________________________\n",
      "dense_25 (Dense)                (None, 100)          30100       dense_21[0][0]                   \n",
      "__________________________________________________________________________________________________\n",
      "concatenate_3 (Concatenate)     (None, 700)          0           dense_22[0][0]                   \n",
      "                                                                 dense_23[0][0]                   \n",
      "                                                                 dense_24[0][0]                   \n",
      "                                                                 dense_25[0][0]                   \n",
      "__________________________________________________________________________________________________\n",
      "dense_26 (Dense)                (None, 50)           35050       concatenate_3[0][0]              \n",
      "__________________________________________________________________________________________________\n",
      "dense_27 (Dense)                (None, 10)           510         dense_26[0][0]                   \n",
      "==================================================================================================\n",
      "Total params: 1,077,860\n",
      "Trainable params: 1,077,860\n",
      "Non-trainable params: 0\n",
      "__________________________________________________________________________________________________\n"
     ]
    }
   ],
   "source": [
    "z1 = f1(x)\n",
    "z2 = f2(z1)\n",
    "z3 = f3(z1)\n",
    "z4 = f4(z2)\n",
    "z5 = f5(z2)\n",
    "z6 = f6(z3)\n",
    "z7 = f7(z3)\n",
    "z8 = concatenate([z4,z5,z6,z7])\n",
    "z9 = f8(z8)\n",
    "y = f9(z9)\n",
    "\n",
    "model = Model(x,y)\n",
    "model.summary()"
   ]
  },
  {
   "cell_type": "code",
   "execution_count": 34,
   "metadata": {},
   "outputs": [
    {
     "name": "stdout",
     "output_type": "stream",
     "text": [
      "Epoch 1/50\n",
      "60000/60000 [==============================] - 6s 95us/step - loss: 0.0118 - acc: 0.9202\n",
      "Epoch 2/50\n",
      "60000/60000 [==============================] - 5s 80us/step - loss: 0.0048 - acc: 0.9689\n",
      "Epoch 3/50\n",
      "60000/60000 [==============================] - 5s 79us/step - loss: 0.0038 - acc: 0.9758\n",
      "Epoch 4/50\n",
      "60000/60000 [==============================] - 5s 81us/step - loss: 0.0030 - acc: 0.9802\n",
      "Epoch 5/50\n",
      "60000/60000 [==============================] - 5s 81us/step - loss: 0.0025 - acc: 0.9839\n",
      "Epoch 6/50\n",
      "60000/60000 [==============================] - 5s 81us/step - loss: 0.0026 - acc: 0.9834\n",
      "Epoch 7/50\n",
      "60000/60000 [==============================] - 5s 84us/step - loss: 0.0020 - acc: 0.9874\n",
      "Epoch 8/50\n",
      "60000/60000 [==============================] - 5s 83us/step - loss: 0.0020 - acc: 0.9875\n",
      "Epoch 9/50\n",
      "60000/60000 [==============================] - 5s 83us/step - loss: 0.0019 - acc: 0.9886\n",
      "Epoch 10/50\n",
      "60000/60000 [==============================] - 5s 84us/step - loss: 0.0021 - acc: 0.9872\n",
      "Epoch 11/50\n",
      "60000/60000 [==============================] - 5s 85us/step - loss: 0.0019 - acc: 0.9884\n",
      "Epoch 12/50\n",
      "60000/60000 [==============================] - 5s 86us/step - loss: 0.0016 - acc: 0.9908\n",
      "Epoch 13/50\n",
      "60000/60000 [==============================] - 5s 85us/step - loss: 0.0016 - acc: 0.9908\n",
      "Epoch 14/50\n",
      "60000/60000 [==============================] - 5s 86us/step - loss: 0.0016 - acc: 0.9903\n",
      "Epoch 15/50\n",
      "60000/60000 [==============================] - 5s 86us/step - loss: 0.0014 - acc: 0.9916\n",
      "Epoch 16/50\n",
      "60000/60000 [==============================] - 5s 87us/step - loss: 0.0014 - acc: 0.9921\n",
      "Epoch 17/50\n",
      "60000/60000 [==============================] - 5s 87us/step - loss: 0.0015 - acc: 0.9911\n",
      "Epoch 18/50\n",
      "60000/60000 [==============================] - 5s 86us/step - loss: 0.0015 - acc: 0.9912\n",
      "Epoch 19/50\n",
      "60000/60000 [==============================] - 5s 86us/step - loss: 0.0014 - acc: 0.9919\n",
      "Epoch 20/50\n",
      "60000/60000 [==============================] - 5s 85us/step - loss: 0.0014 - acc: 0.9915\n",
      "Epoch 21/50\n",
      "60000/60000 [==============================] - 5s 86us/step - loss: 0.0013 - acc: 0.9921\n",
      "Epoch 22/50\n",
      "60000/60000 [==============================] - 5s 88us/step - loss: 0.0012 - acc: 0.9929\n",
      "Epoch 23/50\n",
      "60000/60000 [==============================] - 5s 86us/step - loss: 0.0014 - acc: 0.9923\n",
      "Epoch 24/50\n",
      "60000/60000 [==============================] - 5s 86us/step - loss: 0.0014 - acc: 0.9916\n",
      "Epoch 25/50\n",
      "60000/60000 [==============================] - 5s 85us/step - loss: 0.0011 - acc: 0.9940\n",
      "Epoch 26/50\n",
      "60000/60000 [==============================] - 5s 85us/step - loss: 0.0010 - acc: 0.9939\n",
      "Epoch 27/50\n",
      "60000/60000 [==============================] - 5s 85us/step - loss: 0.0013 - acc: 0.9924\n",
      "Epoch 28/50\n",
      "60000/60000 [==============================] - 5s 85us/step - loss: 0.0011 - acc: 0.9939\n",
      "Epoch 29/50\n",
      "60000/60000 [==============================] - 5s 83us/step - loss: 8.7803e-04 - acc: 0.9950\n",
      "Epoch 30/50\n",
      "60000/60000 [==============================] - 5s 85us/step - loss: 9.4797e-04 - acc: 0.9945\n",
      "Epoch 31/50\n",
      "60000/60000 [==============================] - 5s 86us/step - loss: 0.0011 - acc: 0.9939\n",
      "Epoch 32/50\n",
      "60000/60000 [==============================] - 5s 85us/step - loss: 0.0011 - acc: 0.9941\n",
      "Epoch 33/50\n",
      "60000/60000 [==============================] - 5s 84us/step - loss: 9.8137e-04 - acc: 0.9945\n",
      "Epoch 34/50\n",
      "60000/60000 [==============================] - 5s 86us/step - loss: 9.4170e-04 - acc: 0.9946\n",
      "Epoch 35/50\n",
      "60000/60000 [==============================] - 5s 86us/step - loss: 0.0013 - acc: 0.9926\n",
      "Epoch 36/50\n",
      "60000/60000 [==============================] - 5s 85us/step - loss: 0.0011 - acc: 0.9935\n",
      "Epoch 37/50\n",
      "60000/60000 [==============================] - 5s 84us/step - loss: 7.8345e-04 - acc: 0.9957\n",
      "Epoch 38/50\n",
      "60000/60000 [==============================] - 5s 83us/step - loss: 9.1613e-04 - acc: 0.9950\n",
      "Epoch 39/50\n",
      "60000/60000 [==============================] - 5s 82us/step - loss: 0.0011 - acc: 0.9941\n",
      "Epoch 40/50\n",
      "60000/60000 [==============================] - 5s 85us/step - loss: 0.0016 - acc: 0.9914\n",
      "Epoch 41/50\n",
      "60000/60000 [==============================] - 5s 84us/step - loss: 0.0011 - acc: 0.9942\n",
      "Epoch 42/50\n",
      "60000/60000 [==============================] - 5s 85us/step - loss: 0.0013 - acc: 0.9929\n",
      "Epoch 43/50\n",
      "60000/60000 [==============================] - 5s 87us/step - loss: 0.0014 - acc: 0.9922\n",
      "Epoch 44/50\n",
      "60000/60000 [==============================] - 5s 85us/step - loss: 0.0011 - acc: 0.9940\n",
      "Epoch 45/50\n",
      "60000/60000 [==============================] - 5s 85us/step - loss: 0.0010 - acc: 0.9944\n",
      "Epoch 46/50\n",
      "60000/60000 [==============================] - 5s 84us/step - loss: 9.2474e-04 - acc: 0.9948\n",
      "Epoch 47/50\n",
      "60000/60000 [==============================] - 5s 85us/step - loss: 0.0013 - acc: 0.9930\n",
      "Epoch 48/50\n",
      "60000/60000 [==============================] - 5s 84us/step - loss: 0.0012 - acc: 0.9934\n",
      "Epoch 49/50\n",
      "60000/60000 [==============================] - 5s 85us/step - loss: 9.3981e-04 - acc: 0.9950\n",
      "Epoch 50/50\n",
      "60000/60000 [==============================] - 5s 84us/step - loss: 8.0516e-04 - acc: 0.9957\n"
     ]
    }
   ],
   "source": [
    "model.compile(loss='mse', optimizer=Adam(), metrics=['acc'])\n",
    "model_out = model.fit(x_train, y_train, batch_size=200, epochs=50)"
   ]
  },
  {
   "cell_type": "code",
   "execution_count": 35,
   "metadata": {},
   "outputs": [
    {
     "data": {
      "text/plain": [
       "Text(0.5, 0, 'epoch')"
      ]
     },
     "execution_count": 35,
     "metadata": {},
     "output_type": "execute_result"
    },
    {
     "data": {
      "image/png": "[encoded data removed]",
      "text/plain": [
       "<Figure size 432x288 with 1 Axes>"
      ]
     },
     "metadata": {
      "needs_background": "light"
     },
     "output_type": "display_data"
    }
   ],
   "source": [
    "plt.plot(model_out.history[\"acc\"])\n",
    "plt.title(\"model training accuracy\")\n",
    "plt.ylabel(\"accuracy\")\n",
    "plt.xlabel(\"epoch\")"
   ]
  },
  {
   "cell_type": "code",
   "execution_count": null,
   "metadata": {},
   "outputs": [],
   "source": []
  }
 ],
 "metadata": {
  "kernelspec": {
   "display_name": "Python 3",
   "language": "python",
   "name": "python3"
  },
  "language_info": {
   "codemirror_mode": {
    "name": "ipython",
    "version": 3
   },
   "file_extension": ".py",
   "mimetype": "text/x-python",
   "name": "python",
   "nbconvert_exporter": "python",
   "pygments_lexer": "ipython3",
   "version": "3.7.1"
  }
 },
 "nbformat": 4,
 "nbformat_minor": 2
}
